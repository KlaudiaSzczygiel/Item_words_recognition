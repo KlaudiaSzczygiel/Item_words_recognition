{
 "cells": [
  {
   "cell_type": "code",
   "execution_count": 1,
   "metadata": {},
   "outputs": [],
   "source": [
    "# loading all required packages\n",
    "\n",
    "import pandas as pd\n",
    "import numpy as np\n",
    "from sklearn import linear_model\n",
    "import statsmodels.api as sm"
   ]
  },
  {
   "cell_type": "code",
   "execution_count": 2,
   "metadata": {},
   "outputs": [],
   "source": [
    "#loading datasets\n",
    "\n",
    "words = pd.read_excel (r'/Users/klaudiaszczygiel/data_science/Applied_statistics/ERPbox/ERPexperiment.xlsx', header=None \n",
    "                    , sheet_name='WORDS')\n",
    "\n",
    "freq = pd.read_excel (r'/Users/klaudiaszczygiel/data_science/Applied_statistics/ERPbox/ERPexperiment.xlsx', header=None \n",
    "                    , sheet_name='Frequence')\n",
    "\n",
    "phon1 = pd.read_excel (r'/Users/klaudiaszczygiel/data_science/Applied_statistics/ERPbox/ERPexperiment.xlsx', header=None \n",
    "                    , sheet_name='PHON1')\n",
    "\n",
    "phon2 = pd.read_excel (r'/Users/klaudiaszczygiel/data_science/Applied_statistics/ERPbox/ERPexperiment.xlsx', header=None \n",
    "                    , sheet_name='PHON2')\n",
    "\n",
    "naming2013 = pd.read_csv('/Users/klaudiaszczygiel/data_science/Applied_statistics/ERPbox/naming2013.csv', header=None )\n",
    "\n",
    "del2013 = pd.read_csv('/Users/klaudiaszczygiel/data_science/Applied_statistics/ERPbox/DELnaming2013.csv', header=None )"
   ]
  },
  {
   "cell_type": "markdown",
   "metadata": {},
   "source": [
    "### Description of the phone1 & phone2 database\n",
    "\n",
    "`200` - nb of words\n",
    "\n",
    "Phonetic properties - due to insufficient energy provided by the first phoneme, voice keys moght be triggered for some words by the energy provided by the second phenome.\n",
    "\n",
    "**Phonem** - voice, manner, palce of articulation etc.\n",
    "\n",
    "- **first phoneme:** the accustic properties of the first phoneme are critical in triggering the voice key\n",
    "- **second phoneme:** also triggering the voice key if some first phonem filed"
   ]
  },
  {
   "cell_type": "markdown",
   "metadata": {},
   "source": [
    "**Components of phonem**:\n",
    "- voice\n",
    "- manner\n",
    "- articulation "
   ]
  },
  {
   "cell_type": "markdown",
   "metadata": {},
   "source": [
    "### Description of phone1&phone2 datasets\n",
    "\n",
    "**Column \"0\"- for coding the voice**\n",
    "- voiced versus voicless phonemes\n",
    "\n",
    "**Column \"1-5\"- for coding manner of articulation**\n",
    "- fricative versus other\n",
    "- nasal versus other\n",
    "- liquid versus other\n",
    "- high vowel versus other \n",
    "- low vowel versus other \n",
    "\n",
    "**Column \"6-11\"- for coding place of articulation**\n",
    "- bilabial versus other\n",
    "- labiodental verusus other\n",
    "- alveolar versus other\n",
    "- velar versus other\n",
    "- anterior vowel versus other\n",
    "- posterior vowel verus other"
   ]
  },
  {
   "cell_type": "code",
   "execution_count": 3,
   "metadata": {},
   "outputs": [],
   "source": [
    "del2013 = del2013.transpose().mean(axis=1).to_frame()\n",
    "del2013.columns = ['del_mean']\n",
    "naming2013 = naming2013.transpose().mean(axis=1).to_frame()\n",
    "naming2013.columns = ['mean']"
   ]
  },
  {
   "cell_type": "markdown",
   "metadata": {},
   "source": [
    "## Linear regression for phone1"
   ]
  },
  {
   "cell_type": "code",
   "execution_count": 4,
   "metadata": {},
   "outputs": [],
   "source": [
    "f1 = pd.concat([naming2013, phon1], axis=1)"
   ]
  },
  {
   "cell_type": "code",
   "execution_count": 5,
   "metadata": {},
   "outputs": [],
   "source": [
    "X = f1.iloc[:,1:]\n",
    "y = f1['mean']"
   ]
  },
  {
   "cell_type": "code",
   "execution_count": 6,
   "metadata": {},
   "outputs": [
    {
     "name": "stderr",
     "output_type": "stream",
     "text": [
      "/usr/local/anaconda3/envs/szczygiel/lib/python3.6/site-packages/numpy/core/fromnumeric.py:52: FutureWarning: Method .ptp is deprecated and will be removed in a future version. Use numpy.ptp instead.\n",
      "  return getattr(obj, method)(*args, **kwds)\n"
     ]
    }
   ],
   "source": [
    "X2 = sm.add_constant(X) "
   ]
  },
  {
   "cell_type": "code",
   "execution_count": 7,
   "metadata": {},
   "outputs": [],
   "source": [
    "est = sm.OLS(y, X2)"
   ]
  },
  {
   "cell_type": "code",
   "execution_count": 8,
   "metadata": {},
   "outputs": [],
   "source": [
    "est2 = est.fit()"
   ]
  },
  {
   "cell_type": "code",
   "execution_count": 9,
   "metadata": {},
   "outputs": [
    {
     "name": "stdout",
     "output_type": "stream",
     "text": [
      "summary()\n",
      "                             OLS Regression Results                            \n",
      "==============================================================================\n",
      "Dep. Variable:                   mean   R-squared:                       0.221\n",
      "Model:                            OLS   Adj. R-squared:                  0.175\n",
      "Method:                 Least Squares   F-statistic:                     4.839\n",
      "Date:                Tue, 21 Apr 2020   Prob (F-statistic):           1.45e-06\n",
      "Time:                        10:28:46   Log-Likelihood:                -941.29\n",
      "No. Observations:                 200   AIC:                             1907.\n",
      "Df Residuals:                     188   BIC:                             1946.\n",
      "Df Model:                          11                                         \n",
      "Covariance Type:            nonrobust                                         \n",
      "==============================================================================\n",
      "                 coef    std err          t      P>|t|      [0.025      0.975]\n",
      "------------------------------------------------------------------------------\n",
      "const        558.4840      8.695     64.234      0.000     541.333     575.635\n",
      "0              8.1017      8.848      0.916      0.361      -9.352      25.555\n",
      "1             12.9012     13.548      0.952      0.342     -13.824      39.627\n",
      "2            -14.4728     13.564     -1.067      0.287     -41.231      12.285\n",
      "3              1.4493      9.492      0.153      0.879     -17.275      20.174\n",
      "4             -5.9180      7.404     -0.799      0.425     -20.524       8.688\n",
      "5             11.2871      8.386      1.346      0.180      -5.255      27.830\n",
      "6             -7.9593      8.320     -0.957      0.340     -24.371       8.452\n",
      "7             -8.6235     10.946     -0.788      0.432     -30.217      12.970\n",
      "8              0.4008      8.198      0.049      0.961     -15.771      16.573\n",
      "9             28.1538     12.628      2.230      0.027       3.244      53.064\n",
      "10           -22.7848      6.873     -3.315      0.001     -36.343      -9.227\n",
      "11            11.7986      5.361      2.201      0.029       1.223      22.374\n",
      "==============================================================================\n",
      "Omnibus:                        5.005   Durbin-Watson:                   1.545\n",
      "Prob(Omnibus):                  0.082   Jarque-Bera (JB):                4.433\n",
      "Skew:                           0.288   Prob(JB):                        0.109\n",
      "Kurtosis:                       2.552   Cond. No.                     2.91e+16\n",
      "==============================================================================\n",
      "\n",
      "Warnings:\n",
      "[1] Standard Errors assume that the covariance matrix of the errors is correctly specified.\n",
      "[2] The smallest eigenvalue is 4.02e-31. This might indicate that there are\n",
      "strong multicollinearity problems or that the design matrix is singular.\n"
     ]
    }
   ],
   "source": [
    "print(\"summary()\\n\",est2.summary())"
   ]
  },
  {
   "cell_type": "markdown",
   "metadata": {},
   "source": [
    "## Linear regression for phone1 & phone2"
   ]
  },
  {
   "cell_type": "code",
   "execution_count": 10,
   "metadata": {},
   "outputs": [],
   "source": [
    "f2 = pd.concat([naming2013, phon1, phon2], axis=1)"
   ]
  },
  {
   "cell_type": "code",
   "execution_count": 11,
   "metadata": {},
   "outputs": [],
   "source": [
    "X = f2.iloc[:,1:]\n",
    "y = f2['mean']"
   ]
  },
  {
   "cell_type": "code",
   "execution_count": 12,
   "metadata": {},
   "outputs": [
    {
     "name": "stderr",
     "output_type": "stream",
     "text": [
      "/usr/local/anaconda3/envs/szczygiel/lib/python3.6/site-packages/numpy/core/fromnumeric.py:52: FutureWarning: Method .ptp is deprecated and will be removed in a future version. Use numpy.ptp instead.\n",
      "  return getattr(obj, method)(*args, **kwds)\n"
     ]
    }
   ],
   "source": [
    "X2 = sm.add_constant(X) "
   ]
  },
  {
   "cell_type": "code",
   "execution_count": 13,
   "metadata": {},
   "outputs": [],
   "source": [
    "est = sm.OLS(y, X2)"
   ]
  },
  {
   "cell_type": "code",
   "execution_count": 14,
   "metadata": {},
   "outputs": [],
   "source": [
    "est2 = est.fit()"
   ]
  },
  {
   "cell_type": "code",
   "execution_count": 15,
   "metadata": {},
   "outputs": [
    {
     "name": "stdout",
     "output_type": "stream",
     "text": [
      "summary()\n",
      "                             OLS Regression Results                            \n",
      "==============================================================================\n",
      "Dep. Variable:                   mean   R-squared:                       0.424\n",
      "Model:                            OLS   Adj. R-squared:                  0.353\n",
      "Method:                 Least Squares   F-statistic:                     5.928\n",
      "Date:                Tue, 21 Apr 2020   Prob (F-statistic):           1.98e-12\n",
      "Time:                        10:28:53   Log-Likelihood:                -911.01\n",
      "No. Observations:                 200   AIC:                             1868.\n",
      "Df Residuals:                     177   BIC:                             1944.\n",
      "Df Model:                          22                                         \n",
      "Covariance Type:            nonrobust                                         \n",
      "==============================================================================\n",
      "                 coef    std err          t      P>|t|      [0.025      0.975]\n",
      "------------------------------------------------------------------------------\n",
      "const        565.4915     24.014     23.549      0.000     518.102     612.881\n",
      "0              2.6048      8.201      0.318      0.751     -13.579      18.788\n",
      "1              6.0059     12.425      0.483      0.629     -18.514      30.525\n",
      "2            -22.8014     12.464     -1.829      0.069     -47.399       1.796\n",
      "3             -1.0015      8.628     -0.116      0.908     -18.029      16.026\n",
      "4            -16.1653      8.720     -1.854      0.065     -33.374       1.044\n",
      "5              7.3594     12.777      0.576      0.565     -17.856      32.575\n",
      "6              4.6814      7.643      0.613      0.541     -10.401      19.764\n",
      "7              1.7749     10.101      0.176      0.861     -18.158      21.708\n",
      "8              4.6434      7.656      0.607      0.545     -10.465      19.752\n",
      "9             14.3479     16.121      0.890      0.375     -17.466      46.162\n",
      "10           -23.1538      9.118     -2.539      0.012     -41.147      -5.160\n",
      "11             8.3893      4.831      1.737      0.084      -1.144      17.922\n",
      "0            -12.4696     19.234     -0.648      0.518     -50.428      25.488\n",
      "1            -37.1513     21.431     -1.734      0.085     -79.445       5.142\n",
      "2            -10.5714     20.254     -0.522      0.602     -50.542      29.400\n",
      "3              6.5740     20.004      0.329      0.743     -32.902      46.050\n",
      "4            -21.2140     10.786     -1.967      0.051     -42.500       0.072\n",
      "5             -0.3384     10.731     -0.032      0.975     -21.515      20.838\n",
      "6             24.5240     17.644      1.390      0.166     -10.295      59.343\n",
      "7             14.2679      7.445      1.916      0.057      -0.425      28.961\n",
      "8             -5.7189      7.052     -0.811      0.418     -19.636       8.198\n",
      "9             -6.1855     11.299     -0.547      0.585     -28.484      16.113\n",
      "10           -15.3669     10.356     -1.484      0.140     -35.804       5.070\n",
      "11            17.1446     10.675      1.606      0.110      -3.922      38.211\n",
      "==============================================================================\n",
      "Omnibus:                        5.356   Durbin-Watson:                   1.754\n",
      "Prob(Omnibus):                  0.069   Jarque-Bera (JB):                5.443\n",
      "Skew:                           0.400   Prob(JB):                       0.0658\n",
      "Kurtosis:                       2.886   Cond. No.                     1.20e+18\n",
      "==============================================================================\n",
      "\n",
      "Warnings:\n",
      "[1] Standard Errors assume that the covariance matrix of the errors is correctly specified.\n",
      "[2] The smallest eigenvalue is 4.62e-34. This might indicate that there are\n",
      "strong multicollinearity problems or that the design matrix is singular.\n"
     ]
    }
   ],
   "source": [
    "print(\"summary()\\n\",est2.summary())"
   ]
  },
  {
   "cell_type": "markdown",
   "metadata": {},
   "source": [
    "## Linear regression for phone1 & phone2 & Delayed RT"
   ]
  },
  {
   "cell_type": "code",
   "execution_count": 16,
   "metadata": {},
   "outputs": [],
   "source": [
    "f3 = pd.concat([naming2013, phon1, phon2, del2013], axis=1)"
   ]
  },
  {
   "cell_type": "code",
   "execution_count": 17,
   "metadata": {},
   "outputs": [],
   "source": [
    "X = f3.iloc[:,1:]\n",
    "y = f3['mean']"
   ]
  },
  {
   "cell_type": "code",
   "execution_count": 18,
   "metadata": {},
   "outputs": [
    {
     "name": "stderr",
     "output_type": "stream",
     "text": [
      "/usr/local/anaconda3/envs/szczygiel/lib/python3.6/site-packages/numpy/core/fromnumeric.py:52: FutureWarning: Method .ptp is deprecated and will be removed in a future version. Use numpy.ptp instead.\n",
      "  return getattr(obj, method)(*args, **kwds)\n"
     ]
    },
    {
     "data": {
      "text/html": [
       "<div>\n",
       "<style scoped>\n",
       "    .dataframe tbody tr th:only-of-type {\n",
       "        vertical-align: middle;\n",
       "    }\n",
       "\n",
       "    .dataframe tbody tr th {\n",
       "        vertical-align: top;\n",
       "    }\n",
       "\n",
       "    .dataframe thead th {\n",
       "        text-align: right;\n",
       "    }\n",
       "</style>\n",
       "<table border=\"1\" class=\"dataframe\">\n",
       "  <thead>\n",
       "    <tr style=\"text-align: right;\">\n",
       "      <th></th>\n",
       "      <th>const</th>\n",
       "      <th>0</th>\n",
       "      <th>1</th>\n",
       "      <th>2</th>\n",
       "      <th>3</th>\n",
       "      <th>4</th>\n",
       "      <th>5</th>\n",
       "      <th>6</th>\n",
       "      <th>7</th>\n",
       "      <th>8</th>\n",
       "      <th>...</th>\n",
       "      <th>3</th>\n",
       "      <th>4</th>\n",
       "      <th>5</th>\n",
       "      <th>6</th>\n",
       "      <th>7</th>\n",
       "      <th>8</th>\n",
       "      <th>9</th>\n",
       "      <th>10</th>\n",
       "      <th>11</th>\n",
       "      <th>del_mean</th>\n",
       "    </tr>\n",
       "  </thead>\n",
       "  <tbody>\n",
       "    <tr>\n",
       "      <th>0</th>\n",
       "      <td>1.0</td>\n",
       "      <td>0</td>\n",
       "      <td>0</td>\n",
       "      <td>0</td>\n",
       "      <td>0</td>\n",
       "      <td>1</td>\n",
       "      <td>0</td>\n",
       "      <td>0</td>\n",
       "      <td>0</td>\n",
       "      <td>0</td>\n",
       "      <td>...</td>\n",
       "      <td>1</td>\n",
       "      <td>0</td>\n",
       "      <td>0</td>\n",
       "      <td>0</td>\n",
       "      <td>0</td>\n",
       "      <td>0</td>\n",
       "      <td>0</td>\n",
       "      <td>0</td>\n",
       "      <td>0</td>\n",
       "      <td>467.708333</td>\n",
       "    </tr>\n",
       "    <tr>\n",
       "      <th>1</th>\n",
       "      <td>1.0</td>\n",
       "      <td>0</td>\n",
       "      <td>0</td>\n",
       "      <td>0</td>\n",
       "      <td>0</td>\n",
       "      <td>1</td>\n",
       "      <td>0</td>\n",
       "      <td>0</td>\n",
       "      <td>0</td>\n",
       "      <td>0</td>\n",
       "      <td>...</td>\n",
       "      <td>0</td>\n",
       "      <td>0</td>\n",
       "      <td>0</td>\n",
       "      <td>0</td>\n",
       "      <td>1</td>\n",
       "      <td>0</td>\n",
       "      <td>0</td>\n",
       "      <td>0</td>\n",
       "      <td>0</td>\n",
       "      <td>468.451613</td>\n",
       "    </tr>\n",
       "    <tr>\n",
       "      <th>2</th>\n",
       "      <td>1.0</td>\n",
       "      <td>0</td>\n",
       "      <td>0</td>\n",
       "      <td>0</td>\n",
       "      <td>0</td>\n",
       "      <td>1</td>\n",
       "      <td>0</td>\n",
       "      <td>0</td>\n",
       "      <td>0</td>\n",
       "      <td>0</td>\n",
       "      <td>...</td>\n",
       "      <td>0</td>\n",
       "      <td>0</td>\n",
       "      <td>0</td>\n",
       "      <td>1</td>\n",
       "      <td>0</td>\n",
       "      <td>0</td>\n",
       "      <td>0</td>\n",
       "      <td>0</td>\n",
       "      <td>1</td>\n",
       "      <td>466.643678</td>\n",
       "    </tr>\n",
       "    <tr>\n",
       "      <th>3</th>\n",
       "      <td>1.0</td>\n",
       "      <td>0</td>\n",
       "      <td>0</td>\n",
       "      <td>0</td>\n",
       "      <td>0</td>\n",
       "      <td>1</td>\n",
       "      <td>0</td>\n",
       "      <td>0</td>\n",
       "      <td>0</td>\n",
       "      <td>0</td>\n",
       "      <td>...</td>\n",
       "      <td>0</td>\n",
       "      <td>0</td>\n",
       "      <td>0</td>\n",
       "      <td>1</td>\n",
       "      <td>0</td>\n",
       "      <td>0</td>\n",
       "      <td>0</td>\n",
       "      <td>0</td>\n",
       "      <td>1</td>\n",
       "      <td>484.827957</td>\n",
       "    </tr>\n",
       "    <tr>\n",
       "      <th>4</th>\n",
       "      <td>1.0</td>\n",
       "      <td>0</td>\n",
       "      <td>0</td>\n",
       "      <td>0</td>\n",
       "      <td>0</td>\n",
       "      <td>1</td>\n",
       "      <td>0</td>\n",
       "      <td>0</td>\n",
       "      <td>0</td>\n",
       "      <td>0</td>\n",
       "      <td>...</td>\n",
       "      <td>1</td>\n",
       "      <td>0</td>\n",
       "      <td>0</td>\n",
       "      <td>0</td>\n",
       "      <td>0</td>\n",
       "      <td>1</td>\n",
       "      <td>0</td>\n",
       "      <td>0</td>\n",
       "      <td>1</td>\n",
       "      <td>483.767442</td>\n",
       "    </tr>\n",
       "  </tbody>\n",
       "</table>\n",
       "<p>5 rows × 26 columns</p>\n",
       "</div>"
      ],
      "text/plain": [
       "   const  0  1  2  3  4  5  6  7  8  ...  3  4  5  6  7  8  9  10  11  \\\n",
       "0    1.0  0  0  0  0  1  0  0  0  0  ...  1  0  0  0  0  0  0   0   0   \n",
       "1    1.0  0  0  0  0  1  0  0  0  0  ...  0  0  0  0  1  0  0   0   0   \n",
       "2    1.0  0  0  0  0  1  0  0  0  0  ...  0  0  0  1  0  0  0   0   1   \n",
       "3    1.0  0  0  0  0  1  0  0  0  0  ...  0  0  0  1  0  0  0   0   1   \n",
       "4    1.0  0  0  0  0  1  0  0  0  0  ...  1  0  0  0  0  1  0   0   1   \n",
       "\n",
       "     del_mean  \n",
       "0  467.708333  \n",
       "1  468.451613  \n",
       "2  466.643678  \n",
       "3  484.827957  \n",
       "4  483.767442  \n",
       "\n",
       "[5 rows x 26 columns]"
      ]
     },
     "execution_count": 18,
     "metadata": {},
     "output_type": "execute_result"
    }
   ],
   "source": [
    "X2 = sm.add_constant(X) "
   ]
  },
  {
   "cell_type": "code",
   "execution_count": 19,
   "metadata": {},
   "outputs": [
    {
     "name": "stdout",
     "output_type": "stream",
     "text": [
      "summary()\n",
      "                             OLS Regression Results                            \n",
      "==============================================================================\n",
      "Dep. Variable:                   mean   R-squared:                       0.502\n",
      "Model:                            OLS   Adj. R-squared:                  0.437\n",
      "Method:                 Least Squares   F-statistic:                     7.726\n",
      "Date:                Tue, 21 Apr 2020   Prob (F-statistic):           7.37e-17\n",
      "Time:                        10:29:10   Log-Likelihood:                -896.42\n",
      "No. Observations:                 200   AIC:                             1841.\n",
      "Df Residuals:                     176   BIC:                             1920.\n",
      "Df Model:                          23                                         \n",
      "Covariance Type:            nonrobust                                         \n",
      "==============================================================================\n",
      "                 coef    std err          t      P>|t|      [0.025      0.975]\n",
      "------------------------------------------------------------------------------\n",
      "const        293.4790     56.371      5.206      0.000     182.229     404.729\n",
      "0             -0.2940      7.665     -0.038      0.969     -15.422      14.834\n",
      "1             -0.2275     11.644     -0.020      0.984     -23.207      22.752\n",
      "2            -13.5675     11.752     -1.154      0.250     -36.760       9.626\n",
      "3             -0.9267      8.044     -0.115      0.908     -16.802      14.948\n",
      "4            -11.2721      8.183     -1.378      0.170     -27.421       4.877\n",
      "5              1.5960     11.963      0.133      0.894     -22.012      25.204\n",
      "6              9.6584      7.188      1.344      0.181      -4.527      23.844\n",
      "7              1.1889      9.417      0.126      0.900     -17.396      19.774\n",
      "8              2.1893      7.153      0.306      0.760     -11.927      16.305\n",
      "9              1.6092     15.223      0.106      0.916     -28.435      31.653\n",
      "10           -11.2853      8.795     -1.283      0.201     -28.642       6.072\n",
      "11             0.3290      4.757      0.069      0.945      -9.059       9.718\n",
      "0             -4.5339     17.995     -0.252      0.801     -40.048      30.980\n",
      "1            -16.3046     20.370     -0.800      0.425     -56.505      23.896\n",
      "2              5.0759     19.116      0.266      0.791     -32.650      42.802\n",
      "3             13.6159     18.697      0.728      0.467     -23.283      50.515\n",
      "4            -14.9434     10.126     -1.476      0.142     -34.928       5.041\n",
      "5              0.2455     10.005      0.025      0.980     -19.499      19.991\n",
      "6             11.1944     16.643      0.673      0.502     -21.652      44.041\n",
      "7              3.5819      7.232      0.495      0.621     -10.692      17.855\n",
      "8             -7.5085      6.583     -1.141      0.256     -20.501       5.484\n",
      "9             -3.7878     10.544     -0.359      0.720     -24.597      17.021\n",
      "10           -10.9100      9.692     -1.126      0.262     -30.037       8.217\n",
      "11            12.0227     10.000      1.202      0.231      -7.712      31.757\n",
      "del_mean       0.5532      0.105      5.258      0.000       0.346       0.761\n",
      "==============================================================================\n",
      "Omnibus:                        7.055   Durbin-Watson:                   1.884\n",
      "Prob(Omnibus):                  0.029   Jarque-Bera (JB):                7.021\n",
      "Skew:                           0.458   Prob(JB):                       0.0299\n",
      "Kurtosis:                       3.069   Cond. No.                     1.00e+16\n",
      "==============================================================================\n",
      "\n",
      "Warnings:\n",
      "[1] Standard Errors assume that the covariance matrix of the errors is correctly specified.\n",
      "[2] The smallest eigenvalue is 4.9e-25. This might indicate that there are\n",
      "strong multicollinearity problems or that the design matrix is singular.\n"
     ]
    }
   ],
   "source": [
    "est = sm.OLS(y, X2)\n",
    "est2 = est.fit()\n",
    "print(\"summary()\\n\",est2.summary())"
   ]
  },
  {
   "cell_type": "markdown",
   "metadata": {},
   "source": [
    "## Linear regression for phone1 & phone2 & Delayed RT & log_frequency"
   ]
  },
  {
   "cell_type": "code",
   "execution_count": 20,
   "metadata": {},
   "outputs": [],
   "source": [
    "f4 = pd.concat([naming2013, phon1, phon2, del2013, freq], axis=1)"
   ]
  },
  {
   "cell_type": "code",
   "execution_count": 21,
   "metadata": {},
   "outputs": [],
   "source": [
    "X = f4.iloc[:,1:]\n",
    "y = f4['mean']"
   ]
  },
  {
   "cell_type": "code",
   "execution_count": 22,
   "metadata": {},
   "outputs": [
    {
     "name": "stderr",
     "output_type": "stream",
     "text": [
      "/usr/local/anaconda3/envs/szczygiel/lib/python3.6/site-packages/numpy/core/fromnumeric.py:52: FutureWarning: Method .ptp is deprecated and will be removed in a future version. Use numpy.ptp instead.\n",
      "  return getattr(obj, method)(*args, **kwds)\n"
     ]
    }
   ],
   "source": [
    "X2 = sm.add_constant(X) "
   ]
  },
  {
   "cell_type": "code",
   "execution_count": 23,
   "metadata": {},
   "outputs": [
    {
     "name": "stdout",
     "output_type": "stream",
     "text": [
      "summary()\n",
      "                             OLS Regression Results                            \n",
      "==============================================================================\n",
      "Dep. Variable:                   mean   R-squared:                       0.641\n",
      "Model:                            OLS   Adj. R-squared:                  0.587\n",
      "Method:                 Least Squares   F-statistic:                     11.88\n",
      "Date:                Tue, 21 Apr 2020   Prob (F-statistic):           1.49e-26\n",
      "Time:                        10:29:33   Log-Likelihood:                -863.78\n",
      "No. Observations:                 200   AIC:                             1782.\n",
      "Df Residuals:                     173   BIC:                             1871.\n",
      "Df Model:                          26                                         \n",
      "Covariance Type:            nonrobust                                         \n",
      "==============================================================================\n",
      "                 coef    std err          t      P>|t|      [0.025      0.975]\n",
      "------------------------------------------------------------------------------\n",
      "const        265.2876     49.582      5.351      0.000     167.425     363.150\n",
      "0             -1.6494      6.578     -0.251      0.802     -14.632      11.333\n",
      "1             -0.3276     10.019     -0.033      0.974     -20.102      19.447\n",
      "2             -4.3023     10.157     -0.424      0.672     -24.350      15.745\n",
      "3              2.8645      6.996      0.409      0.683     -10.945      16.674\n",
      "4            -14.5627      7.084     -2.056      0.041     -28.545      -0.581\n",
      "5             14.4433     10.453      1.382      0.169      -6.189      35.075\n",
      "6             15.0922      6.238      2.420      0.017       2.781      27.404\n",
      "7             -1.5025      8.087     -0.186      0.853     -17.464      14.459\n",
      "8             -5.8705      6.287     -0.934      0.352     -18.279       6.538\n",
      "9              4.4860     13.300      0.337      0.736     -21.766      30.738\n",
      "10            -4.6055      7.587     -0.607      0.545     -19.580      10.369\n",
      "11             1.2738      4.103      0.310      0.757      -6.824       9.372\n",
      "0              0.7184     15.694      0.046      0.964     -30.258      31.695\n",
      "1              1.7042     17.717      0.096      0.923     -33.265      36.673\n",
      "2             24.5645     16.666      1.474      0.142      -8.331      57.460\n",
      "3             28.4629     16.519      1.723      0.087      -4.143      61.069\n",
      "4             -4.1670      8.859     -0.470      0.639     -21.653      13.319\n",
      "5              6.9938      8.696      0.804      0.422     -10.171      24.158\n",
      "6             10.1765     14.285      0.712      0.477     -18.018      38.371\n",
      "7              3.9874      6.322      0.631      0.529      -8.491      16.465\n",
      "8            -10.9612      5.673     -1.932      0.055     -22.158       0.236\n",
      "9              4.9279      9.173      0.537      0.592     -13.177      23.033\n",
      "10            -2.1011      8.475     -0.248      0.804     -18.829      14.627\n",
      "11            11.8100      8.631      1.368      0.173      -5.225      28.845\n",
      "del_mean       0.6189      0.091      6.831      0.000       0.440       0.798\n",
      "0              0.6055      5.314      0.114      0.909      -9.883      11.094\n",
      "1             -2.5155      2.360     -1.066      0.288      -7.175       2.144\n",
      "2             -7.9487      3.113     -2.554      0.012     -14.092      -1.805\n",
      "==============================================================================\n",
      "Omnibus:                        2.890   Durbin-Watson:                   1.914\n",
      "Prob(Omnibus):                  0.236   Jarque-Bera (JB):                2.884\n",
      "Skew:                           0.289   Prob(JB):                        0.236\n",
      "Kurtosis:                       2.895   Cond. No.                     1.00e+16\n",
      "==============================================================================\n",
      "\n",
      "Warnings:\n",
      "[1] Standard Errors assume that the covariance matrix of the errors is correctly specified.\n",
      "[2] The smallest eigenvalue is 4.9e-25. This might indicate that there are\n",
      "strong multicollinearity problems or that the design matrix is singular.\n"
     ]
    }
   ],
   "source": [
    "est = sm.OLS(y, X2)\n",
    "est2 = est.fit()\n",
    "print(\"summary()\\n\",est2.summary())"
   ]
  },
  {
   "cell_type": "markdown",
   "metadata": {},
   "source": [
    "## Linear regression for phone1 & phone2 & Delayed RT & log_frequency & words_len"
   ]
  },
  {
   "cell_type": "code",
   "execution_count": 24,
   "metadata": {},
   "outputs": [],
   "source": [
    "words_len = words[0].str.len()"
   ]
  },
  {
   "cell_type": "code",
   "execution_count": 25,
   "metadata": {},
   "outputs": [],
   "source": [
    "f5 = pd.concat([naming2013, phon1, phon2, del2013, freq, words_len], axis=1)"
   ]
  },
  {
   "cell_type": "code",
   "execution_count": 26,
   "metadata": {},
   "outputs": [],
   "source": [
    "X = f5.iloc[:,1:]\n",
    "y = f5['mean']"
   ]
  },
  {
   "cell_type": "code",
   "execution_count": 27,
   "metadata": {},
   "outputs": [
    {
     "name": "stderr",
     "output_type": "stream",
     "text": [
      "/usr/local/anaconda3/envs/szczygiel/lib/python3.6/site-packages/numpy/core/fromnumeric.py:52: FutureWarning: Method .ptp is deprecated and will be removed in a future version. Use numpy.ptp instead.\n",
      "  return getattr(obj, method)(*args, **kwds)\n"
     ]
    },
    {
     "data": {
      "text/html": [
       "<div>\n",
       "<style scoped>\n",
       "    .dataframe tbody tr th:only-of-type {\n",
       "        vertical-align: middle;\n",
       "    }\n",
       "\n",
       "    .dataframe tbody tr th {\n",
       "        vertical-align: top;\n",
       "    }\n",
       "\n",
       "    .dataframe thead th {\n",
       "        text-align: right;\n",
       "    }\n",
       "</style>\n",
       "<table border=\"1\" class=\"dataframe\">\n",
       "  <thead>\n",
       "    <tr style=\"text-align: right;\">\n",
       "      <th></th>\n",
       "      <th>const</th>\n",
       "      <th>0</th>\n",
       "      <th>1</th>\n",
       "      <th>2</th>\n",
       "      <th>3</th>\n",
       "      <th>4</th>\n",
       "      <th>5</th>\n",
       "      <th>6</th>\n",
       "      <th>7</th>\n",
       "      <th>8</th>\n",
       "      <th>...</th>\n",
       "      <th>7</th>\n",
       "      <th>8</th>\n",
       "      <th>9</th>\n",
       "      <th>10</th>\n",
       "      <th>11</th>\n",
       "      <th>del_mean</th>\n",
       "      <th>0</th>\n",
       "      <th>1</th>\n",
       "      <th>2</th>\n",
       "      <th>0</th>\n",
       "    </tr>\n",
       "  </thead>\n",
       "  <tbody>\n",
       "    <tr>\n",
       "      <th>0</th>\n",
       "      <td>1.0</td>\n",
       "      <td>0</td>\n",
       "      <td>0</td>\n",
       "      <td>0</td>\n",
       "      <td>0</td>\n",
       "      <td>1</td>\n",
       "      <td>0</td>\n",
       "      <td>0</td>\n",
       "      <td>0</td>\n",
       "      <td>0</td>\n",
       "      <td>...</td>\n",
       "      <td>0</td>\n",
       "      <td>0</td>\n",
       "      <td>0</td>\n",
       "      <td>0</td>\n",
       "      <td>0</td>\n",
       "      <td>467.708333</td>\n",
       "      <td>3.25</td>\n",
       "      <td>2.696652</td>\n",
       "      <td>2.846071</td>\n",
       "      <td>7</td>\n",
       "    </tr>\n",
       "    <tr>\n",
       "      <th>1</th>\n",
       "      <td>1.0</td>\n",
       "      <td>0</td>\n",
       "      <td>0</td>\n",
       "      <td>0</td>\n",
       "      <td>0</td>\n",
       "      <td>1</td>\n",
       "      <td>0</td>\n",
       "      <td>0</td>\n",
       "      <td>0</td>\n",
       "      <td>0</td>\n",
       "      <td>...</td>\n",
       "      <td>1</td>\n",
       "      <td>0</td>\n",
       "      <td>0</td>\n",
       "      <td>0</td>\n",
       "      <td>0</td>\n",
       "      <td>468.451613</td>\n",
       "      <td>3.06</td>\n",
       "      <td>1.824549</td>\n",
       "      <td>2.480731</td>\n",
       "      <td>5</td>\n",
       "    </tr>\n",
       "    <tr>\n",
       "      <th>2</th>\n",
       "      <td>1.0</td>\n",
       "      <td>0</td>\n",
       "      <td>0</td>\n",
       "      <td>0</td>\n",
       "      <td>0</td>\n",
       "      <td>1</td>\n",
       "      <td>0</td>\n",
       "      <td>0</td>\n",
       "      <td>0</td>\n",
       "      <td>0</td>\n",
       "      <td>...</td>\n",
       "      <td>0</td>\n",
       "      <td>0</td>\n",
       "      <td>0</td>\n",
       "      <td>0</td>\n",
       "      <td>1</td>\n",
       "      <td>466.643678</td>\n",
       "      <td>2.95</td>\n",
       "      <td>2.639771</td>\n",
       "      <td>1.938742</td>\n",
       "      <td>6</td>\n",
       "    </tr>\n",
       "    <tr>\n",
       "      <th>3</th>\n",
       "      <td>1.0</td>\n",
       "      <td>0</td>\n",
       "      <td>0</td>\n",
       "      <td>0</td>\n",
       "      <td>0</td>\n",
       "      <td>1</td>\n",
       "      <td>0</td>\n",
       "      <td>0</td>\n",
       "      <td>0</td>\n",
       "      <td>0</td>\n",
       "      <td>...</td>\n",
       "      <td>0</td>\n",
       "      <td>0</td>\n",
       "      <td>0</td>\n",
       "      <td>0</td>\n",
       "      <td>1</td>\n",
       "      <td>484.827957</td>\n",
       "      <td>3.17</td>\n",
       "      <td>1.868721</td>\n",
       "      <td>2.131797</td>\n",
       "      <td>6</td>\n",
       "    </tr>\n",
       "    <tr>\n",
       "      <th>4</th>\n",
       "      <td>1.0</td>\n",
       "      <td>0</td>\n",
       "      <td>0</td>\n",
       "      <td>0</td>\n",
       "      <td>0</td>\n",
       "      <td>1</td>\n",
       "      <td>0</td>\n",
       "      <td>0</td>\n",
       "      <td>0</td>\n",
       "      <td>0</td>\n",
       "      <td>...</td>\n",
       "      <td>0</td>\n",
       "      <td>1</td>\n",
       "      <td>0</td>\n",
       "      <td>0</td>\n",
       "      <td>1</td>\n",
       "      <td>483.767442</td>\n",
       "      <td>2.89</td>\n",
       "      <td>0.647103</td>\n",
       "      <td>1.172482</td>\n",
       "      <td>6</td>\n",
       "    </tr>\n",
       "  </tbody>\n",
       "</table>\n",
       "<p>5 rows × 30 columns</p>\n",
       "</div>"
      ],
      "text/plain": [
       "   const  0  1  2  3  4  5  6  7  8  ...  7  8  9  10  11    del_mean     0  \\\n",
       "0    1.0  0  0  0  0  1  0  0  0  0  ...  0  0  0   0   0  467.708333  3.25   \n",
       "1    1.0  0  0  0  0  1  0  0  0  0  ...  1  0  0   0   0  468.451613  3.06   \n",
       "2    1.0  0  0  0  0  1  0  0  0  0  ...  0  0  0   0   1  466.643678  2.95   \n",
       "3    1.0  0  0  0  0  1  0  0  0  0  ...  0  0  0   0   1  484.827957  3.17   \n",
       "4    1.0  0  0  0  0  1  0  0  0  0  ...  0  1  0   0   1  483.767442  2.89   \n",
       "\n",
       "          1         2  0  \n",
       "0  2.696652  2.846071  7  \n",
       "1  1.824549  2.480731  5  \n",
       "2  2.639771  1.938742  6  \n",
       "3  1.868721  2.131797  6  \n",
       "4  0.647103  1.172482  6  \n",
       "\n",
       "[5 rows x 30 columns]"
      ]
     },
     "execution_count": 27,
     "metadata": {},
     "output_type": "execute_result"
    }
   ],
   "source": [
    "X2 = sm.add_constant(X) \n",
    "X2.head()"
   ]
  },
  {
   "cell_type": "code",
   "execution_count": 28,
   "metadata": {},
   "outputs": [
    {
     "name": "stdout",
     "output_type": "stream",
     "text": [
      "summary()\n",
      "                             OLS Regression Results                            \n",
      "==============================================================================\n",
      "Dep. Variable:                   mean   R-squared:                       0.688\n",
      "Model:                            OLS   Adj. R-squared:                  0.639\n",
      "Method:                 Least Squares   F-statistic:                     14.02\n",
      "Date:                Tue, 21 Apr 2020   Prob (F-statistic):           7.86e-31\n",
      "Time:                        10:29:43   Log-Likelihood:                -849.87\n",
      "No. Observations:                 200   AIC:                             1756.\n",
      "Df Residuals:                     172   BIC:                             1848.\n",
      "Df Model:                          27                                         \n",
      "Covariance Type:            nonrobust                                         \n",
      "==============================================================================\n",
      "                 coef    std err          t      P>|t|      [0.025      0.975]\n",
      "------------------------------------------------------------------------------\n",
      "const        214.8892     47.439      4.530      0.000     121.252     308.527\n",
      "0             -0.2525      6.160     -0.041      0.967     -12.410      11.906\n",
      "1             -1.1970      9.374     -0.128      0.899     -19.700      17.306\n",
      "2             -6.1265      9.509     -0.644      0.520     -24.895      12.642\n",
      "3              1.5601      6.550      0.238      0.812     -11.369      14.489\n",
      "4             -6.5278      6.814     -0.958      0.339     -19.978       6.923\n",
      "5             18.0468      9.805      1.841      0.067      -1.307      37.400\n",
      "6             13.4112      5.845      2.295      0.023       1.875      24.948\n",
      "7             -0.5585      7.567     -0.074      0.941     -15.495      14.378\n",
      "8             -3.7513      5.896     -0.636      0.525     -15.390       7.887\n",
      "9             15.2869     12.624      1.211      0.228      -9.631      40.205\n",
      "10            -3.7679      7.100     -0.531      0.596     -17.782      10.246\n",
      "11             0.9998      3.839      0.260      0.795      -6.577       8.577\n",
      "0              3.3878     14.692      0.231      0.818     -25.611      32.387\n",
      "1              9.0611     16.638      0.545      0.587     -23.779      41.902\n",
      "2             23.3783     15.593      1.499      0.136      -7.401      54.157\n",
      "3             26.1674     15.461      1.692      0.092      -4.350      56.685\n",
      "4              1.6454      8.367      0.197      0.844     -14.870      18.161\n",
      "5              7.3145      8.136      0.899      0.370      -8.744      23.373\n",
      "6              7.6998     13.372      0.576      0.566     -18.695      34.095\n",
      "7              4.9146      5.917      0.831      0.407      -6.765      16.594\n",
      "8             -8.3994      5.331     -1.576      0.117     -18.922       2.124\n",
      "9              8.0189      8.603      0.932      0.353      -8.962      25.000\n",
      "10             0.9410      7.951      0.118      0.906     -14.754      16.636\n",
      "11            13.0575      8.078      1.616      0.108      -2.887      29.003\n",
      "del_mean       0.5989      0.085      7.057      0.000       0.431       0.766\n",
      "0              0.8866      4.972      0.178      0.859      -8.927      10.700\n",
      "1             -0.8313      2.233     -0.372      0.710      -5.239       3.577\n",
      "2             -9.1786      2.922     -3.141      0.002     -14.946      -3.411\n",
      "0              7.7470      1.529      5.067      0.000       4.729      10.765\n",
      "==============================================================================\n",
      "Omnibus:                        0.538   Durbin-Watson:                   1.876\n",
      "Prob(Omnibus):                  0.764   Jarque-Bera (JB):                0.416\n",
      "Skew:                           0.111   Prob(JB):                        0.812\n",
      "Kurtosis:                       3.027   Cond. No.                     1.00e+16\n",
      "==============================================================================\n",
      "\n",
      "Warnings:\n",
      "[1] Standard Errors assume that the covariance matrix of the errors is correctly specified.\n",
      "[2] The smallest eigenvalue is 4.9e-25. This might indicate that there are\n",
      "strong multicollinearity problems or that the design matrix is singular.\n"
     ]
    }
   ],
   "source": [
    "est = sm.OLS(y, X2)\n",
    "est2 = est.fit()\n",
    "print(\"summary()\\n\",est2.summary())"
   ]
  },
  {
   "cell_type": "code",
   "execution_count": null,
   "metadata": {},
   "outputs": [],
   "source": []
  }
 ],
 "metadata": {
  "kernelspec": {
   "display_name": "Python 3",
   "language": "python",
   "name": "python3"
  },
  "language_info": {
   "codemirror_mode": {
    "name": "ipython",
    "version": 3
   },
   "file_extension": ".py",
   "mimetype": "text/x-python",
   "name": "python",
   "nbconvert_exporter": "python",
   "pygments_lexer": "ipython3",
   "version": "3.6.8"
  }
 },
 "nbformat": 4,
 "nbformat_minor": 2
}
