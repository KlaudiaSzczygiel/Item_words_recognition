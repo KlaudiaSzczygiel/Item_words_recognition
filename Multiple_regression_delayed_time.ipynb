{
 "cells": [
  {
   "cell_type": "code",
   "execution_count": 1,
   "metadata": {},
   "outputs": [],
   "source": [
    "# loading all required packages\n",
    "\n",
    "import pandas as pd\n",
    "import numpy as np\n",
    "from sklearn import linear_model\n",
    "import statsmodels.api as sm"
   ]
  },
  {
   "cell_type": "code",
   "execution_count": 2,
   "metadata": {},
   "outputs": [],
   "source": [
    "#loading datasets\n",
    "\n",
    "words = pd.read_excel (r'/Users/klaudiaszczygiel/data_science/Applied_statistics/ERPbox/ERPexperiment.xlsx', header=None \n",
    "                    , sheet_name='WORDS')\n",
    "\n",
    "freq = pd.read_excel (r'/Users/klaudiaszczygiel/data_science/Applied_statistics/ERPbox/ERPexperiment.xlsx', header=None \n",
    "                    , sheet_name='Frequence')\n",
    "\n",
    "phon1 = pd.read_excel (r'/Users/klaudiaszczygiel/data_science/Applied_statistics/ERPbox/ERPexperiment.xlsx', header=None \n",
    "                    , sheet_name='PHON1')\n",
    "\n",
    "phon2 = pd.read_excel (r'/Users/klaudiaszczygiel/data_science/Applied_statistics/ERPbox/ERPexperiment.xlsx', header=None \n",
    "                    , sheet_name='PHON2')\n",
    "\n",
    "naming2013 = pd.read_csv('/Users/klaudiaszczygiel/data_science/Applied_statistics/ERPbox/naming2013.csv', header=None )\n",
    "\n",
    "del2013 = pd.read_csv('/Users/klaudiaszczygiel/data_science/Applied_statistics/ERPbox/DELnaming2013.csv', header=None )"
   ]
  },
  {
   "cell_type": "code",
   "execution_count": 3,
   "metadata": {},
   "outputs": [],
   "source": [
    "del2013 = del2013.transpose().mean(axis=1).to_frame()\n",
    "del2013.columns = ['del_mean']\n",
    "naming2013 = naming2013.transpose().mean(axis=1).to_frame()\n",
    "naming2013.columns = ['mean']"
   ]
  },
  {
   "cell_type": "markdown",
   "metadata": {},
   "source": [
    "## Linear regression for phone1"
   ]
  },
  {
   "cell_type": "code",
   "execution_count": 4,
   "metadata": {},
   "outputs": [],
   "source": [
    "f1 = pd.concat([del2013, phon1], axis=1)"
   ]
  },
  {
   "cell_type": "code",
   "execution_count": 5,
   "metadata": {},
   "outputs": [],
   "source": [
    "X = f1.iloc[:,1:]"
   ]
  },
  {
   "cell_type": "code",
   "execution_count": 6,
   "metadata": {},
   "outputs": [],
   "source": [
    "y = f1['del_mean']"
   ]
  },
  {
   "cell_type": "code",
   "execution_count": 7,
   "metadata": {},
   "outputs": [
    {
     "name": "stderr",
     "output_type": "stream",
     "text": [
      "/usr/local/anaconda3/envs/szczygiel/lib/python3.6/site-packages/numpy/core/fromnumeric.py:52: FutureWarning: Method .ptp is deprecated and will be removed in a future version. Use numpy.ptp instead.\n",
      "  return getattr(obj, method)(*args, **kwds)\n"
     ]
    }
   ],
   "source": [
    "X2 = sm.add_constant(X) "
   ]
  },
  {
   "cell_type": "code",
   "execution_count": 8,
   "metadata": {},
   "outputs": [],
   "source": [
    "est = sm.OLS(y, X2)"
   ]
  },
  {
   "cell_type": "code",
   "execution_count": 9,
   "metadata": {},
   "outputs": [],
   "source": [
    "est2 = est.fit()"
   ]
  },
  {
   "cell_type": "code",
   "execution_count": 10,
   "metadata": {},
   "outputs": [
    {
     "name": "stdout",
     "output_type": "stream",
     "text": [
      "summary()\n",
      "                             OLS Regression Results                            \n",
      "==============================================================================\n",
      "Dep. Variable:               del_mean   R-squared:                       0.407\n",
      "Model:                            OLS   Adj. R-squared:                  0.373\n",
      "Method:                 Least Squares   F-statistic:                     11.74\n",
      "Date:                Tue, 21 Apr 2020   Prob (F-statistic):           1.38e-16\n",
      "Time:                        10:31:56   Log-Likelihood:                -861.58\n",
      "No. Observations:                 200   AIC:                             1747.\n",
      "Df Residuals:                     188   BIC:                             1787.\n",
      "Df Model:                          11                                         \n",
      "Covariance Type:            nonrobust                                         \n",
      "==============================================================================\n",
      "                 coef    std err          t      P>|t|      [0.025      0.975]\n",
      "------------------------------------------------------------------------------\n",
      "const        489.7954      5.837     83.916      0.000     478.282     501.309\n",
      "0              5.9418      5.939      1.000      0.318      -5.775      17.658\n",
      "1             14.0855      9.095      1.549      0.123      -3.856      32.026\n",
      "2            -10.4640      9.106     -1.149      0.252     -28.427       7.499\n",
      "3             -0.7985      6.372     -0.125      0.900     -13.368      11.771\n",
      "4             -8.6968      4.970     -1.750      0.082     -18.502       1.108\n",
      "5             11.0087      5.629      1.956      0.052      -0.096      22.114\n",
      "6            -14.7274      5.585     -2.637      0.009     -25.745      -3.710\n",
      "7             -6.6875      7.348     -0.910      0.364     -21.183       7.808\n",
      "8              4.1010      5.503      0.745      0.457      -6.755      14.957\n",
      "9             30.4994      8.477      3.598      0.000      13.777      47.222\n",
      "10           -28.1875      4.614     -6.109      0.000     -37.289     -19.086\n",
      "11            16.7933      3.599      4.666      0.000       9.694      23.893\n",
      "==============================================================================\n",
      "Omnibus:                       12.975   Durbin-Watson:                   1.484\n",
      "Prob(Omnibus):                  0.002   Jarque-Bera (JB):               15.122\n",
      "Skew:                           0.502   Prob(JB):                     0.000520\n",
      "Kurtosis:                       3.897   Cond. No.                     2.91e+16\n",
      "==============================================================================\n",
      "\n",
      "Warnings:\n",
      "[1] Standard Errors assume that the covariance matrix of the errors is correctly specified.\n",
      "[2] The smallest eigenvalue is 4.02e-31. This might indicate that there are\n",
      "strong multicollinearity problems or that the design matrix is singular.\n"
     ]
    }
   ],
   "source": [
    "print(\"summary()\\n\",est2.summary())"
   ]
  },
  {
   "cell_type": "markdown",
   "metadata": {},
   "source": [
    "## Linear regression for phone1 & phone2"
   ]
  },
  {
   "cell_type": "code",
   "execution_count": 11,
   "metadata": {},
   "outputs": [],
   "source": [
    "f2 = pd.concat([del2013, phon1, phon2], axis=1)"
   ]
  },
  {
   "cell_type": "code",
   "execution_count": 12,
   "metadata": {},
   "outputs": [],
   "source": [
    "X = f2.iloc[:,1:]"
   ]
  },
  {
   "cell_type": "code",
   "execution_count": 13,
   "metadata": {},
   "outputs": [],
   "source": [
    "y = f2['del_mean']"
   ]
  },
  {
   "cell_type": "code",
   "execution_count": 14,
   "metadata": {},
   "outputs": [
    {
     "name": "stderr",
     "output_type": "stream",
     "text": [
      "/usr/local/anaconda3/envs/szczygiel/lib/python3.6/site-packages/numpy/core/fromnumeric.py:52: FutureWarning: Method .ptp is deprecated and will be removed in a future version. Use numpy.ptp instead.\n",
      "  return getattr(obj, method)(*args, **kwds)\n"
     ]
    }
   ],
   "source": [
    "X2 = sm.add_constant(X) "
   ]
  },
  {
   "cell_type": "code",
   "execution_count": 15,
   "metadata": {},
   "outputs": [],
   "source": [
    "est = sm.OLS(y, X2)"
   ]
  },
  {
   "cell_type": "code",
   "execution_count": 16,
   "metadata": {},
   "outputs": [],
   "source": [
    "est2 = est.fit()"
   ]
  },
  {
   "cell_type": "code",
   "execution_count": 17,
   "metadata": {},
   "outputs": [
    {
     "name": "stdout",
     "output_type": "stream",
     "text": [
      "summary()\n",
      "                             OLS Regression Results                            \n",
      "==============================================================================\n",
      "Dep. Variable:               del_mean   R-squared:                       0.569\n",
      "Model:                            OLS   Adj. R-squared:                  0.515\n",
      "Method:                 Least Squares   F-statistic:                     10.62\n",
      "Date:                Tue, 21 Apr 2020   Prob (F-statistic):           2.55e-22\n",
      "Time:                        10:32:03   Log-Likelihood:                -829.71\n",
      "No. Observations:                 200   AIC:                             1705.\n",
      "Df Residuals:                     177   BIC:                             1781.\n",
      "Df Model:                          22                                         \n",
      "Covariance Type:            nonrobust                                         \n",
      "==============================================================================\n",
      "                 coef    std err          t      P>|t|      [0.025      0.975]\n",
      "------------------------------------------------------------------------------\n",
      "const        491.6663     15.992     30.744      0.000     460.106     523.226\n",
      "0              5.2395      5.461      0.959      0.339      -5.538      16.017\n",
      "1             11.2670      8.274      1.362      0.175      -5.062      27.596\n",
      "2            -16.6905      8.301     -2.011      0.046     -33.071      -0.310\n",
      "3             -0.1351      5.746     -0.024      0.981     -11.475      11.204\n",
      "4             -8.8447      5.807     -1.523      0.130     -20.305       2.616\n",
      "5             10.4175      8.509      1.224      0.222      -6.375      27.210\n",
      "6             -8.9959      5.090     -1.767      0.079     -19.040       1.049\n",
      "7              1.0592      6.727      0.157      0.875     -12.216      14.334\n",
      "8              4.4359      5.098      0.870      0.385      -5.626      14.497\n",
      "9             23.0253     10.736      2.145      0.033       1.838      44.212\n",
      "10           -21.4524      6.072     -3.533      0.001     -33.435      -9.469\n",
      "11            14.5690      3.217      4.529      0.000       8.220      20.918\n",
      "0            -14.3438     12.809     -1.120      0.264     -39.623      10.935\n",
      "1            -37.6807     14.272     -2.640      0.009     -65.847      -9.515\n",
      "2            -28.2828     13.489     -2.097      0.037     -54.902      -1.663\n",
      "3            -12.7284     13.322     -0.955      0.341     -39.018      13.561\n",
      "4            -11.3342      7.183     -1.578      0.116     -25.510       2.842\n",
      "5             -1.0555      7.146     -0.148      0.883     -15.159      13.048\n",
      "6             24.0934     11.750      2.050      0.042       0.905      47.282\n",
      "7             19.3151      4.958      3.896      0.000       9.530      29.100\n",
      "8              3.2348      4.696      0.689      0.492      -6.034      12.503\n",
      "9             -4.3338      7.525     -0.576      0.565     -19.184      10.517\n",
      "10            -8.0559      6.897     -1.168      0.244     -21.666       5.554\n",
      "11             9.2579      7.109      1.302      0.195      -4.772      23.288\n",
      "==============================================================================\n",
      "Omnibus:                        4.895   Durbin-Watson:                   1.828\n",
      "Prob(Omnibus):                  0.087   Jarque-Bera (JB):                5.397\n",
      "Skew:                          -0.205   Prob(JB):                       0.0673\n",
      "Kurtosis:                       3.692   Cond. No.                     1.20e+18\n",
      "==============================================================================\n",
      "\n",
      "Warnings:\n",
      "[1] Standard Errors assume that the covariance matrix of the errors is correctly specified.\n",
      "[2] The smallest eigenvalue is 4.62e-34. This might indicate that there are\n",
      "strong multicollinearity problems or that the design matrix is singular.\n"
     ]
    }
   ],
   "source": [
    "print(\"summary()\\n\",est2.summary())"
   ]
  },
  {
   "cell_type": "markdown",
   "metadata": {},
   "source": [
    "## Linear regression for phone1 & phone2 & log_frequency"
   ]
  },
  {
   "cell_type": "code",
   "execution_count": 18,
   "metadata": {},
   "outputs": [],
   "source": [
    "f3 = pd.concat([del2013, phon1, phon2, freq], axis=1)"
   ]
  },
  {
   "cell_type": "code",
   "execution_count": 19,
   "metadata": {},
   "outputs": [],
   "source": [
    "X = f3.iloc[:,1:]\n",
    "y = f3['del_mean']"
   ]
  },
  {
   "cell_type": "code",
   "execution_count": 20,
   "metadata": {},
   "outputs": [
    {
     "name": "stderr",
     "output_type": "stream",
     "text": [
      "/usr/local/anaconda3/envs/szczygiel/lib/python3.6/site-packages/numpy/core/fromnumeric.py:52: FutureWarning: Method .ptp is deprecated and will be removed in a future version. Use numpy.ptp instead.\n",
      "  return getattr(obj, method)(*args, **kwds)\n"
     ]
    }
   ],
   "source": [
    "X2 = sm.add_constant(X) "
   ]
  },
  {
   "cell_type": "code",
   "execution_count": 21,
   "metadata": {},
   "outputs": [],
   "source": [
    "est = sm.OLS(y, X2)"
   ]
  },
  {
   "cell_type": "code",
   "execution_count": 22,
   "metadata": {},
   "outputs": [],
   "source": [
    "est2 = est.fit()"
   ]
  },
  {
   "cell_type": "code",
   "execution_count": 23,
   "metadata": {},
   "outputs": [
    {
     "name": "stdout",
     "output_type": "stream",
     "text": [
      "summary()\n",
      "                             OLS Regression Results                            \n",
      "==============================================================================\n",
      "Dep. Variable:               del_mean   R-squared:                       0.573\n",
      "Model:                            OLS   Adj. R-squared:                  0.512\n",
      "Method:                 Least Squares   F-statistic:                     9.355\n",
      "Date:                Tue, 21 Apr 2020   Prob (F-statistic):           3.88e-21\n",
      "Time:                        10:32:17   Log-Likelihood:                -828.69\n",
      "No. Observations:                 200   AIC:                             1709.\n",
      "Df Residuals:                     174   BIC:                             1795.\n",
      "Df Model:                          25                                         \n",
      "Covariance Type:            nonrobust                                         \n",
      "==============================================================================\n",
      "                 coef    std err          t      P>|t|      [0.025      0.975]\n",
      "------------------------------------------------------------------------------\n",
      "const        485.6477     19.113     25.409      0.000     447.924     523.372\n",
      "0              5.5210      5.487      1.006      0.316      -5.309      16.351\n",
      "1             11.6001      8.336      1.392      0.166      -4.852      28.052\n",
      "2            -17.2752      8.396     -2.058      0.041     -33.847      -0.704\n",
      "3             -0.0614      5.853     -0.010      0.992     -11.614      11.492\n",
      "4             -8.0129      5.896     -1.359      0.176     -19.649       3.623\n",
      "5              9.2721      8.717      1.064      0.289      -7.933      26.477\n",
      "6             -9.5639      5.168     -1.851      0.066     -19.764       0.636\n",
      "7              1.2116      6.765      0.179      0.858     -12.140      14.564\n",
      "8              4.9860      5.246      0.950      0.343      -5.369      15.341\n",
      "9             23.3737     10.986      2.128      0.035       1.691      45.056\n",
      "10           -22.1146      6.122     -3.612      0.000     -34.198     -10.031\n",
      "11            14.3740      3.255      4.416      0.000       7.949      20.799\n",
      "0            -13.6480     13.090     -1.043      0.299     -39.483      12.187\n",
      "1            -38.8205     14.528     -2.672      0.008     -67.494     -10.147\n",
      "2            -29.2989     13.766     -2.128      0.035     -56.469      -2.129\n",
      "3            -13.0993     13.785     -0.950      0.343     -40.307      14.109\n",
      "4            -11.9657      7.356     -1.627      0.106     -26.485       2.554\n",
      "5             -1.2499      7.275     -0.172      0.864     -15.609      13.109\n",
      "6             23.5423     11.817      1.992      0.048       0.219      46.866\n",
      "7             19.4790      5.079      3.835      0.000       9.455      29.503\n",
      "8              3.7014      4.738      0.781      0.436      -5.650      13.053\n",
      "9             -4.7225      7.666     -0.616      0.539     -19.853      10.408\n",
      "10            -8.4931      7.062     -1.203      0.231     -22.430       5.444\n",
      "11             9.5072      7.185      1.323      0.188      -4.674      23.688\n",
      "0              1.7861      4.444      0.402      0.688      -6.985      10.557\n",
      "1              1.1841      1.973      0.600      0.549      -2.710       5.078\n",
      "2             -0.6023      2.604     -0.231      0.817      -5.741       4.537\n",
      "==============================================================================\n",
      "Omnibus:                        4.018   Durbin-Watson:                   1.811\n",
      "Prob(Omnibus):                  0.134   Jarque-Bera (JB):                4.072\n",
      "Skew:                          -0.194   Prob(JB):                        0.131\n",
      "Kurtosis:                       3.581   Cond. No.                     1.07e+16\n",
      "==============================================================================\n",
      "\n",
      "Warnings:\n",
      "[1] Standard Errors assume that the covariance matrix of the errors is correctly specified.\n",
      "[2] The smallest eigenvalue is 4.54e-29. This might indicate that there are\n",
      "strong multicollinearity problems or that the design matrix is singular.\n"
     ]
    }
   ],
   "source": [
    "print(\"summary()\\n\",est2.summary())"
   ]
  },
  {
   "cell_type": "markdown",
   "metadata": {},
   "source": [
    "## Linear regression for phone1 & phone2 & log_frequency & words_len"
   ]
  },
  {
   "cell_type": "code",
   "execution_count": 24,
   "metadata": {},
   "outputs": [],
   "source": [
    "words_len = words[0].str.len()"
   ]
  },
  {
   "cell_type": "code",
   "execution_count": 25,
   "metadata": {},
   "outputs": [],
   "source": [
    "f4 = pd.concat([del2013, phon1, phon2, freq, words_len], axis=1)"
   ]
  },
  {
   "cell_type": "code",
   "execution_count": 26,
   "metadata": {},
   "outputs": [],
   "source": [
    "X = f4.iloc[:,1:]\n",
    "y = f4['del_mean']"
   ]
  },
  {
   "cell_type": "code",
   "execution_count": 27,
   "metadata": {},
   "outputs": [
    {
     "name": "stderr",
     "output_type": "stream",
     "text": [
      "/usr/local/anaconda3/envs/szczygiel/lib/python3.6/site-packages/numpy/core/fromnumeric.py:52: FutureWarning: Method .ptp is deprecated and will be removed in a future version. Use numpy.ptp instead.\n",
      "  return getattr(obj, method)(*args, **kwds)\n"
     ]
    }
   ],
   "source": [
    "X2 = sm.add_constant(X) "
   ]
  },
  {
   "cell_type": "code",
   "execution_count": 28,
   "metadata": {},
   "outputs": [],
   "source": [
    "est = sm.OLS(y, X2)"
   ]
  },
  {
   "cell_type": "code",
   "execution_count": 29,
   "metadata": {},
   "outputs": [],
   "source": [
    "est2 = est.fit()"
   ]
  },
  {
   "cell_type": "code",
   "execution_count": 30,
   "metadata": {},
   "outputs": [
    {
     "name": "stdout",
     "output_type": "stream",
     "text": [
      "summary()\n",
      "                             OLS Regression Results                            \n",
      "==============================================================================\n",
      "Dep. Variable:               del_mean   R-squared:                       0.574\n",
      "Model:                            OLS   Adj. R-squared:                  0.510\n",
      "Method:                 Least Squares   F-statistic:                     8.978\n",
      "Date:                Tue, 21 Apr 2020   Prob (F-statistic):           1.02e-20\n",
      "Time:                        10:32:50   Log-Likelihood:                -828.47\n",
      "No. Observations:                 200   AIC:                             1711.\n",
      "Df Residuals:                     173   BIC:                             1800.\n",
      "Df Model:                          26                                         \n",
      "Covariance Type:            nonrobust                                         \n",
      "==============================================================================\n",
      "                 coef    std err          t      P>|t|      [0.025      0.975]\n",
      "------------------------------------------------------------------------------\n",
      "const        479.1361     21.896     21.883      0.000     435.919     522.353\n",
      "0              5.6603      5.502      1.029      0.305      -5.199      16.519\n",
      "1             11.4808      8.353      1.374      0.171      -5.006      27.968\n",
      "2            -17.4353      8.415     -2.072      0.040     -34.045      -0.825\n",
      "3             -0.2025      5.868     -0.035      0.973     -11.786      11.381\n",
      "4             -7.1253      6.081     -1.172      0.243     -19.128       4.877\n",
      "5              9.6422      8.754      1.101      0.272      -7.636      26.920\n",
      "6             -9.7252      5.184     -1.876      0.062     -19.957       0.507\n",
      "7              1.3112      6.779      0.193      0.847     -12.069      14.692\n",
      "8              5.2047      5.268      0.988      0.325      -5.193      15.602\n",
      "9             24.4928     11.156      2.196      0.029       2.474      46.512\n",
      "10           -21.9759      6.137     -3.581      0.000     -34.090      -9.862\n",
      "11            14.3132      3.263      4.387      0.000       7.874      20.753\n",
      "0            -13.3293     13.124     -1.016      0.311     -39.232      12.574\n",
      "1            -37.9395     14.625     -2.594      0.010     -66.805      -9.074\n",
      "2            -29.3638     13.791     -2.129      0.035     -56.584      -2.143\n",
      "3            -13.3195     13.815     -0.964      0.336     -40.587      13.948\n",
      "4            -11.3102      7.447     -1.519      0.131     -26.009       3.388\n",
      "5             -1.2125      7.289     -0.166      0.868     -15.598      13.173\n",
      "6             23.2230     11.850      1.960      0.052      -0.166      46.612\n",
      "7             19.5372      5.089      3.839      0.000       9.493      29.581\n",
      "8              3.9708      4.767      0.833      0.406      -5.438      13.380\n",
      "9             -4.3775      7.701     -0.568      0.570     -19.577      10.822\n",
      "10            -8.1452      7.097     -1.148      0.253     -22.153       5.863\n",
      "11             9.6217      7.200      1.336      0.183      -4.590      23.834\n",
      "0              1.8127      4.452      0.407      0.684      -6.975      10.600\n",
      "1              1.3640      1.998      0.683      0.496      -2.580       5.308\n",
      "2             -0.7342      2.617     -0.281      0.779      -5.900       4.432\n",
      "0              0.8390      1.368      0.613      0.541      -1.862       3.540\n",
      "==============================================================================\n",
      "Omnibus:                        4.092   Durbin-Watson:                   1.811\n",
      "Prob(Omnibus):                  0.129   Jarque-Bera (JB):                4.194\n",
      "Skew:                          -0.193   Prob(JB):                        0.123\n",
      "Kurtosis:                       3.595   Cond. No.                     1.02e+16\n",
      "==============================================================================\n",
      "\n",
      "Warnings:\n",
      "[1] Standard Errors assume that the covariance matrix of the errors is correctly specified.\n",
      "[2] The smallest eigenvalue is 1.31e-28. This might indicate that there are\n",
      "strong multicollinearity problems or that the design matrix is singular.\n"
     ]
    }
   ],
   "source": [
    "print(\"summary()\\n\",est2.summary())"
   ]
  },
  {
   "cell_type": "code",
   "execution_count": null,
   "metadata": {},
   "outputs": [],
   "source": []
  }
 ],
 "metadata": {
  "kernelspec": {
   "display_name": "Python 3",
   "language": "python",
   "name": "python3"
  },
  "language_info": {
   "codemirror_mode": {
    "name": "ipython",
    "version": 3
   },
   "file_extension": ".py",
   "mimetype": "text/x-python",
   "name": "python",
   "nbconvert_exporter": "python",
   "pygments_lexer": "ipython3",
   "version": "3.6.8"
  }
 },
 "nbformat": 4,
 "nbformat_minor": 2
}
